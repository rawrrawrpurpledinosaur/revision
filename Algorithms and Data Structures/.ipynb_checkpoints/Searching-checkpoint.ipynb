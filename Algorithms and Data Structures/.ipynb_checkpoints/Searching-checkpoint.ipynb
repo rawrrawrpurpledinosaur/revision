{
 "cells": [
  {
   "cell_type": "code",
   "execution_count": 16,
   "id": "27d4e847",
   "metadata": {},
   "outputs": [
    {
     "data": {
      "text/plain": [
       "[5, 9, 13, 22, 42, 45, 54, 71, 78, 88]"
      ]
     },
     "execution_count": 16,
     "metadata": {},
     "output_type": "execute_result"
    }
   ],
   "source": [
    "import random \n",
    "random.seed(69)\n",
    "arr = [random.randint(1,100) for x in range(10)]\n",
    "arr.sort()\n",
    "arr"
   ]
  },
  {
   "cell_type": "code",
   "execution_count": 13,
   "id": "a61fd374",
   "metadata": {},
   "outputs": [
    {
     "name": "stdout",
     "output_type": "stream",
     "text": [
      "9\n",
      "None\n"
     ]
    }
   ],
   "source": [
    "# iterative \n",
    "def binarySearch(arr, target): \n",
    "    low = 0\n",
    "    high = len(arr) - 1\n",
    "    \n",
    "    while low <= high: \n",
    "        mid = (low + high)//2\n",
    "        if target == arr[mid]:\n",
    "            return mid\n",
    "        if target < arr[mid]: \n",
    "            high = mid - 1\n",
    "        if target > arr[mid]:\n",
    "            low = mid + 1\n",
    "\n",
    "print(binarySearch(arr, 88)) \n",
    "\n",
    "# recursive \n",
    "def recursiveBinarySearch(arr, target): \n",
    "    # TODO\n",
    "    pass\n",
    "print(recursiveBinarySearch(arr, 88))"
   ]
  },
  {
   "cell_type": "code",
   "execution_count": 23,
   "id": "0ad40eb1",
   "metadata": {},
   "outputs": [
    {
     "name": "stdout",
     "output_type": "stream",
     "text": [
      "9\n"
     ]
    }
   ],
   "source": [
    "def linearSearch(arr, target): \n",
    "    for i in range(len(arr)): \n",
    "        if arr[i] == target:\n",
    "            return i\n",
    "    return f\"Not found\"\n",
    "        \n",
    "print(linearSearch(arr, 88)) "
   ]
  },
  {
   "cell_type": "code",
   "execution_count": 51,
   "id": "9916eb00",
   "metadata": {},
   "outputs": [
    {
     "name": "stdout",
     "output_type": "stream",
     "text": [
      "[0, 0, 0, 0, 0, 0, 0, 0, 0, 0]\n",
      "[0, 0, 0, 0, 0, 5, 0, 0, 0, 0]\n",
      "[0, 0, 0, 0, 0, 5, 0, 0, 0, 9]\n",
      "[0, 0, 0, 13, 0, 5, 0, 0, 0, 9]\n",
      "[0, 0, 22, 13, 0, 5, 0, 0, 0, 9]\n",
      "[0, 0, 22, 13, 54, 5, 45, 0, 0, 9]\n",
      "[0, 71, 22, 13, 54, 5, 45, 0, 0, 9]\n",
      "[0, 71, 22, 13, 54, 5, 45, 0, 78, 9]\n",
      "[0, 71, 22, 13, 54, 5, 45, 0, 78, 9]\n"
     ]
    }
   ],
   "source": [
    "# Hash table with linear probing \n",
    "arr = [0] * 10\n",
    "print(arr)\n",
    "\n",
    "def hash_function(n):\n",
    "    return n % 10\n",
    "\n",
    "nums = [5, 9, 13, 22, 42, 45, 54, 71, 78, 88]\n",
    "\n",
    "for num in nums: \n",
    "    pos = hash_function(num)\n",
    "    if arr[pos] == 0:\n",
    "        arr[pos] = num\n",
    "        print(arr)\n",
    "    else: \n",
    "        # collision occured, linear probe to find next avail slot\n",
    "        for i in range(len(arr)): \n",
    "            new_pos = (pos + 1) % 10\n",
    "            if arr[new_pos] == 0: \n",
    "                arr[new_pos] = num\n",
    "                break\n",
    "print(arr)"
   ]
  },
  {
   "cell_type": "code",
   "execution_count": null,
   "id": "f137082c",
   "metadata": {},
   "outputs": [],
   "source": [
    "# Hash table with chaining \n",
    "# Create an array of linked lists, in the event of a collision, add the item to the linked list"
   ]
  }
 ],
 "metadata": {
  "kernelspec": {
   "display_name": "Python 3 (ipykernel)",
   "language": "python",
   "name": "python3"
  },
  "language_info": {
   "codemirror_mode": {
    "name": "ipython",
    "version": 3
   },
   "file_extension": ".py",
   "mimetype": "text/x-python",
   "name": "python",
   "nbconvert_exporter": "python",
   "pygments_lexer": "ipython3",
   "version": "3.11.5"
  }
 },
 "nbformat": 4,
 "nbformat_minor": 5
}
