{
 "cells": [
  {
   "cell_type": "markdown",
   "id": "82462d65",
   "metadata": {},
   "source": [
    "### Socket Programming \n",
    "\n",
    "This really just boils down to 2 components, a client and a server. I prefer handling all the logic on the server side so that there wont be a case where both the clients and server are waiting for response (can be solved with asyncio) "
   ]
  },
  {
   "cell_type": "code",
   "execution_count": null,
   "id": "26a03f6b",
   "metadata": {},
   "outputs": [],
   "source": [
    "# Client (remember the run the server first)\n",
    "\n",
    "import socket \n",
    "\n",
    "sock = socket.socket() \n",
    "sock.connect(('127.0.0.1', 5000)) # host and port \n",
    "\n",
    "while True: \n",
    "    data = socket.recv(1024).decode()\n",
    "sock.close"
   ]
  },
  {
   "cell_type": "code",
   "execution_count": null,
   "id": "abcff5db",
   "metadata": {},
   "outputs": [],
   "source": [
    "# Server \n",
    "\n",
    "import socket \n",
    "\n",
    "sock = socket.socket()\n",
    "\n",
    "# binds the socket to 127.0.0.1:5000 \n",
    "sock.bind(('localhost', 5000))\n",
    "\n",
    "# listen for connection from client \n",
    "sock.listen()\n",
    "\n",
    "# accepts connection from client\n",
    "conn, addr = socket.accept \n",
    "\n",
    "while True:\n",
    "    # insert logic\n",
    "\n",
    "conn.close()\n",
    "socket.close()"
   ]
  },
  {
   "cell_type": "code",
   "execution_count": null,
   "id": "eadbc44e",
   "metadata": {},
   "outputs": [],
   "source": []
  }
 ],
 "metadata": {
  "kernelspec": {
   "display_name": "Python 3 (ipykernel)",
   "language": "python",
   "name": "python3"
  },
  "language_info": {
   "codemirror_mode": {
    "name": "ipython",
    "version": 3
   },
   "file_extension": ".py",
   "mimetype": "text/x-python",
   "name": "python",
   "nbconvert_exporter": "python",
   "pygments_lexer": "ipython3",
   "version": "3.11.5"
  }
 },
 "nbformat": 4,
 "nbformat_minor": 5
}
