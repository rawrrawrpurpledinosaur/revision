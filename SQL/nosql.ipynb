{
 "cells": [
  {
   "cell_type": "code",
   "execution_count": 2,
   "id": "15609d0e",
   "metadata": {},
   "outputs": [],
   "source": [
    "import pymongo\n",
    "import json\n",
    "\n",
    "# remember to open mongo shell and mongod (mongo.exe and monngod.exe)\n",
    "# nosql probably will test mongodb with json/csv read write \n",
    "\n",
    "# connect to db\n",
    "client = pymongo.MongoClient(\"localhost\", 27017)\n",
    "\n",
    "# create a db \n",
    "db = client[\"NAME\"]\n",
    "\n",
    "# create a collection (table)\n",
    "collection = db[\"TABLE\"]\n",
    "\n",
    "# open json file, read using json module and insert rows into collection \n",
    "with open(\"FILE.json\", \"r\") as f: \n",
    "    data = json.load(f)\n",
    "    collection.insert_many(data)\n",
    "    \n",
    "# pymongo methods \n",
    "# collection.insert_one(data)\n",
    "# collection.insert_many(data)\n",
    "# collection.find_one({key: value})\n",
    "# collection.find(key: value)\n",
    "# collection.update_one/many()\n",
    "# collection.delete_one/many()\n",
    "# have to use $regex?? \n",
    "\n",
    "# regex guide \n",
    "# less than/greater than $lt/$gt\n",
    "# exists {\"$exists\": False}\n",
    "# "
   ]
  },
  {
   "cell_type": "code",
   "execution_count": null,
   "id": "59f8ab09",
   "metadata": {},
   "outputs": [],
   "source": []
  }
 ],
 "metadata": {
  "kernelspec": {
   "display_name": "Python 3 (ipykernel)",
   "language": "python",
   "name": "python3"
  },
  "language_info": {
   "codemirror_mode": {
    "name": "ipython",
    "version": 3
   },
   "file_extension": ".py",
   "mimetype": "text/x-python",
   "name": "python",
   "nbconvert_exporter": "python",
   "pygments_lexer": "ipython3",
   "version": "3.11.5"
  }
 },
 "nbformat": 4,
 "nbformat_minor": 5
}
