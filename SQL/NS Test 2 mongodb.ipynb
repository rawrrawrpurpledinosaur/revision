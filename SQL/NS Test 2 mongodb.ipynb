{
 "cells": [
  {
   "cell_type": "code",
   "execution_count": 3,
   "id": "0d1bde02",
   "metadata": {},
   "outputs": [
    {
     "name": "stdout",
     "output_type": "stream",
     "text": [
      "{'_id': ObjectId('66133eb45cec99fc1678ccb3'), 'country': 'Australia', 'city': 'Sydney', 'price': 904, 'company': 'B Airways', 'durationHour': 8}\n",
      "{'_id': ObjectId('66133eb45cec99fc1678ccb4'), 'country': 'Australia', 'city': 'Melbourne', 'price': 1628, 'company': 'Q Airlines', 'durationHour': 7}\n",
      "{'_id': ObjectId('66133eb45cec99fc1678ccb5'), 'country': 'Australia', 'city': 'Perth', 'price': 881, 'company': 'S Airlines', 'durationHour': 5}\n",
      "{'_id': ObjectId('66133eb45cec99fc1678ccb6'), 'country': 'UK', 'city': 'London', 'price': 1373, 'company': 'L Airlines', 'durationHour': 19, 'stop': 2}\n",
      "{'_id': ObjectId('66133eb45cec99fc1678ccb7'), 'country': 'UK', 'city': 'London', 'price': 1561, 'company': 'S Airlines', 'durationHour': 17, 'stop': 1}\n",
      "{'_id': ObjectId('66133eb45cec99fc1678ccb8'), 'country': 'UK', 'city': 'Manchester', 'price': 1708, 'company': 'E Air', 'durationHour': 25, 'stop': 1}\n",
      "{'_id': ObjectId('66133eb45cec99fc1678ccb9'), 'country': 'UK', 'city': 'Manchester', 'price': 2917, 'company': 'B Airways', 'durationHour': 17, 'stop': 1}\n",
      "{'_id': ObjectId('66133eb45cec99fc1678ccba'), 'country': 'Japan', 'city': 'Osaka', 'price': 821, 'company': 'S Airlines', 'durationHour': 10, 'stop': 1}\n",
      "{'_id': ObjectId('66133eb45cec99fc1678ccbb'), 'country': 'Japan', 'city': 'Tokyo', 'price': 1028, 'company': 'J Airlines', 'durationHour': 7}\n",
      "{'_id': ObjectId('66133eb45cec99fc1678ccbc'), 'country': 'Japan', 'city': 'Tokyo', 'price': 1124, 'company': 'Air J', 'durationHour': 7}\n"
     ]
    }
   ],
   "source": [
    "# Task 1.1\n",
    "import pymongo \n",
    "import json as jason # hehe haha \n",
    "\n",
    "client = pymongo.MongoClient(\"localhost\", 27017)\n",
    "db = client[\"travel\"]\n",
    "collection = db[\"flight\"]\n",
    "\n",
    "with open(\"TICKET.json\", \"r\") as f: \n",
    "    data = jason.load(f)\n",
    "    collection.insert_many(data)\n",
    "\n",
    "for doc in collection.find():\n",
    "    print(doc)"
   ]
  },
  {
   "cell_type": "code",
   "execution_count": 31,
   "id": "d6e88a1a",
   "metadata": {},
   "outputs": [
    {
     "name": "stdout",
     "output_type": "stream",
     "text": [
      "1. Updating stop field to 0 for flights without any stops:\n",
      "{'_id': ObjectId('66133eb45cec99fc1678ccb3'), 'country': 'Australia', 'city': 'Sydney', 'price': 904, 'company': 'B Airways', 'durationHour': 8, 'stop': 0}\n",
      "{'_id': ObjectId('66133eb45cec99fc1678ccb4'), 'country': 'Australia', 'city': 'Melbourne', 'price': 1628, 'company': 'Q Airlines', 'durationHour': 7, 'stop': 0}\n",
      "{'_id': ObjectId('66133eb45cec99fc1678ccb5'), 'country': 'Australia', 'city': 'Perth', 'price': 881, 'company': 'S Airlines', 'durationHour': 5, 'stop': 0}\n",
      "{'_id': ObjectId('66133eb45cec99fc1678ccb6'), 'country': 'UK', 'city': 'London', 'price': 1373, 'company': 'L Airlines', 'durationHour': 19, 'stop': 2}\n",
      "{'_id': ObjectId('66133eb45cec99fc1678ccb7'), 'country': 'UK', 'city': 'London', 'price': 1561, 'company': 'S Airlines', 'durationHour': 17, 'stop': 1}\n",
      "{'_id': ObjectId('66133eb45cec99fc1678ccb8'), 'country': 'UK', 'city': 'Manchester', 'price': 1708, 'company': 'E Air', 'durationHour': 25, 'stop': 1}\n",
      "{'_id': ObjectId('66133eb45cec99fc1678ccb9'), 'country': 'UK', 'city': 'Manchester', 'price': 2917, 'company': 'B Airways', 'durationHour': 17, 'stop': 1}\n",
      "{'_id': ObjectId('66133eb45cec99fc1678ccba'), 'country': 'Japan', 'city': 'Osaka', 'price': 821, 'company': 'S Airlines', 'durationHour': 10, 'stop': 1}\n",
      "{'_id': ObjectId('66133eb45cec99fc1678ccbb'), 'country': 'Japan', 'city': 'Tokyo', 'price': 1028, 'company': 'J Airlines', 'durationHour': 7, 'stop': 0}\n",
      "{'_id': ObjectId('66133eb45cec99fc1678ccbc'), 'country': 'Japan', 'city': 'Tokyo', 'price': 1124, 'company': 'Air J', 'durationHour': 7, 'stop': 0}\n",
      "----------------------------------------------------------------------------------------------------------------------------\n",
      "2. Display all the information for flights by S Airlines:\n",
      "{'_id': ObjectId('66133eb45cec99fc1678ccb5'), 'country': 'Australia', 'city': 'Perth', 'price': 881, 'company': 'S Airlines', 'durationHour': 5, 'stop': 0}\n",
      "{'_id': ObjectId('66133eb45cec99fc1678ccb7'), 'country': 'UK', 'city': 'London', 'price': 1561, 'company': 'S Airlines', 'durationHour': 17, 'stop': 1}\n",
      "{'_id': ObjectId('66133eb45cec99fc1678ccba'), 'country': 'Japan', 'city': 'Osaka', 'price': 821, 'company': 'S Airlines', 'durationHour': 10, 'stop': 1}\n",
      "----------------------------------------------------------------------------------------------------------------------------\n",
      "3. Display the city and price for flights under 10 hours and under $1500:\n",
      "4. Display all the information for the cheapest air ticket\n"
     ]
    },
    {
     "ename": "ValueError",
     "evalue": "too many values to unpack (expected 2)",
     "output_type": "error",
     "traceback": [
      "\u001b[1;31m---------------------------------------------------------------------------\u001b[0m",
      "\u001b[1;31mValueError\u001b[0m                                Traceback (most recent call last)",
      "Cell \u001b[1;32mIn[31], line 21\u001b[0m\n\u001b[0;32m     18\u001b[0m     \u001b[38;5;28mprint\u001b[39m(x)\n\u001b[0;32m     20\u001b[0m \u001b[38;5;28mprint\u001b[39m(\u001b[38;5;124m\"\u001b[39m\u001b[38;5;124m4. Display all the information for the cheapest air ticket\u001b[39m\u001b[38;5;124m\"\u001b[39m)\n\u001b[1;32m---> 21\u001b[0m prices \u001b[38;5;241m=\u001b[39m collection\u001b[38;5;241m.\u001b[39mfind_one(sort\u001b[38;5;241m=\u001b[39m[\u001b[38;5;124m\"\u001b[39m\u001b[38;5;124mprice\u001b[39m\u001b[38;5;124m\"\u001b[39m,\u001b[38;5;241m1\u001b[39m])\n\u001b[0;32m     22\u001b[0m \u001b[38;5;28mprint\u001b[39m(prices)\n",
      "File \u001b[1;32m~\\anaconda3\\Lib\\site-packages\\pymongo\\collection.py:1327\u001b[0m, in \u001b[0;36mCollection.find_one\u001b[1;34m(self, filter, *args, **kwargs)\u001b[0m\n\u001b[0;32m   1323\u001b[0m \u001b[38;5;28;01mif\u001b[39;00m (\u001b[38;5;28mfilter\u001b[39m \u001b[38;5;129;01mis\u001b[39;00m \u001b[38;5;129;01mnot\u001b[39;00m \u001b[38;5;28;01mNone\u001b[39;00m \u001b[38;5;129;01mand\u001b[39;00m \u001b[38;5;129;01mnot\u001b[39;00m\n\u001b[0;32m   1324\u001b[0m         \u001b[38;5;28misinstance\u001b[39m(\u001b[38;5;28mfilter\u001b[39m, abc\u001b[38;5;241m.\u001b[39mMapping)):\n\u001b[0;32m   1325\u001b[0m     \u001b[38;5;28mfilter\u001b[39m \u001b[38;5;241m=\u001b[39m {\u001b[38;5;124m\"\u001b[39m\u001b[38;5;124m_id\u001b[39m\u001b[38;5;124m\"\u001b[39m: \u001b[38;5;28mfilter\u001b[39m}\n\u001b[1;32m-> 1327\u001b[0m cursor \u001b[38;5;241m=\u001b[39m \u001b[38;5;28mself\u001b[39m\u001b[38;5;241m.\u001b[39mfind(\u001b[38;5;28mfilter\u001b[39m, \u001b[38;5;241m*\u001b[39margs, \u001b[38;5;241m*\u001b[39m\u001b[38;5;241m*\u001b[39mkwargs)\n\u001b[0;32m   1328\u001b[0m \u001b[38;5;28;01mfor\u001b[39;00m result \u001b[38;5;129;01min\u001b[39;00m cursor\u001b[38;5;241m.\u001b[39mlimit(\u001b[38;5;241m-\u001b[39m\u001b[38;5;241m1\u001b[39m):\n\u001b[0;32m   1329\u001b[0m     \u001b[38;5;28;01mreturn\u001b[39;00m result\n",
      "File \u001b[1;32m~\\anaconda3\\Lib\\site-packages\\pymongo\\collection.py:1532\u001b[0m, in \u001b[0;36mCollection.find\u001b[1;34m(self, *args, **kwargs)\u001b[0m\n\u001b[0;32m   1332\u001b[0m \u001b[38;5;28;01mdef\u001b[39;00m \u001b[38;5;21mfind\u001b[39m(\u001b[38;5;28mself\u001b[39m, \u001b[38;5;241m*\u001b[39margs, \u001b[38;5;241m*\u001b[39m\u001b[38;5;241m*\u001b[39mkwargs):\n\u001b[0;32m   1333\u001b[0m \u001b[38;5;250m    \u001b[39m\u001b[38;5;124;03m\"\"\"Query the database.\u001b[39;00m\n\u001b[0;32m   1334\u001b[0m \n\u001b[0;32m   1335\u001b[0m \u001b[38;5;124;03m    The `filter` argument is a prototype document that all results\u001b[39;00m\n\u001b[1;32m   (...)\u001b[0m\n\u001b[0;32m   1530\u001b[0m \n\u001b[0;32m   1531\u001b[0m \u001b[38;5;124;03m    \"\"\"\u001b[39;00m\n\u001b[1;32m-> 1532\u001b[0m     \u001b[38;5;28;01mreturn\u001b[39;00m Cursor(\u001b[38;5;28mself\u001b[39m, \u001b[38;5;241m*\u001b[39margs, \u001b[38;5;241m*\u001b[39m\u001b[38;5;241m*\u001b[39mkwargs)\n",
      "File \u001b[1;32m~\\anaconda3\\Lib\\site-packages\\pymongo\\cursor.py:215\u001b[0m, in \u001b[0;36mCursor.__init__\u001b[1;34m(self, collection, filter, projection, skip, limit, no_cursor_timeout, cursor_type, sort, allow_partial_results, oplog_replay, modifiers, batch_size, manipulate, collation, hint, max_scan, max_time_ms, max, min, return_key, show_record_id, snapshot, comment, session, allow_disk_use)\u001b[0m\n\u001b[0;32m    213\u001b[0m \u001b[38;5;28mself\u001b[39m\u001b[38;5;241m.\u001b[39m__batch_size \u001b[38;5;241m=\u001b[39m batch_size\n\u001b[0;32m    214\u001b[0m \u001b[38;5;28mself\u001b[39m\u001b[38;5;241m.\u001b[39m__modifiers \u001b[38;5;241m=\u001b[39m modifiers \u001b[38;5;129;01mand\u001b[39;00m modifiers\u001b[38;5;241m.\u001b[39mcopy() \u001b[38;5;129;01mor\u001b[39;00m {}\n\u001b[1;32m--> 215\u001b[0m \u001b[38;5;28mself\u001b[39m\u001b[38;5;241m.\u001b[39m__ordering \u001b[38;5;241m=\u001b[39m sort \u001b[38;5;129;01mand\u001b[39;00m helpers\u001b[38;5;241m.\u001b[39m_index_document(sort) \u001b[38;5;129;01mor\u001b[39;00m \u001b[38;5;28;01mNone\u001b[39;00m\n\u001b[0;32m    216\u001b[0m \u001b[38;5;28mself\u001b[39m\u001b[38;5;241m.\u001b[39m__max_scan \u001b[38;5;241m=\u001b[39m max_scan\n\u001b[0;32m    217\u001b[0m \u001b[38;5;28mself\u001b[39m\u001b[38;5;241m.\u001b[39m__explain \u001b[38;5;241m=\u001b[39m \u001b[38;5;28;01mFalse\u001b[39;00m\n",
      "File \u001b[1;32m~\\anaconda3\\Lib\\site-packages\\pymongo\\helpers.py:97\u001b[0m, in \u001b[0;36m_index_document\u001b[1;34m(index_list)\u001b[0m\n\u001b[0;32m     94\u001b[0m     \u001b[38;5;28;01mraise\u001b[39;00m \u001b[38;5;167;01mValueError\u001b[39;00m(\u001b[38;5;124m\"\u001b[39m\u001b[38;5;124mkey_or_list must not be the empty list\u001b[39m\u001b[38;5;124m\"\u001b[39m)\n\u001b[0;32m     96\u001b[0m index \u001b[38;5;241m=\u001b[39m SON()\n\u001b[1;32m---> 97\u001b[0m \u001b[38;5;28;01mfor\u001b[39;00m (key, value) \u001b[38;5;129;01min\u001b[39;00m index_list:\n\u001b[0;32m     98\u001b[0m     \u001b[38;5;28;01mif\u001b[39;00m \u001b[38;5;129;01mnot\u001b[39;00m \u001b[38;5;28misinstance\u001b[39m(key, string_type):\n\u001b[0;32m     99\u001b[0m         \u001b[38;5;28;01mraise\u001b[39;00m \u001b[38;5;167;01mTypeError\u001b[39;00m(\u001b[38;5;124m\"\u001b[39m\u001b[38;5;124mfirst item in each key pair must be a string\u001b[39m\u001b[38;5;124m\"\u001b[39m)\n",
      "\u001b[1;31mValueError\u001b[0m: too many values to unpack (expected 2)"
     ]
    }
   ],
   "source": [
    "# Task 1.2 \n",
    "collection.update_many({\"stop\": {\"$exists\": False}}, {\"$se t\": {\"stop\": 0}})\n",
    "print(\"1. Updating stop field to 0 for flights without any stops:\")\n",
    "for doc in collection.find():\n",
    "    print(doc)\n",
    "print(\"-\"*124)\n",
    "\n",
    "print(\"2. Display all the information for flights by S Airlines:\")\n",
    "for info in collection.find({\"company\": \"S Airlines\"}):\n",
    "    print(info)\n",
    "print(\"-\"*124)\n",
    "\n",
    "print(\"3. Display the city and price for flights under 10 hours and under $1500:\")\n",
    "# for info in collection.find({\"durationHour\":{\"$lt\":\"10\"}}, {\"price\":{\"$lt\":\"1500\"}}):\n",
    "#     print(info)\n",
    "\n",
    "for x in collection.find({\"duration\": {\"$lt\": 10}, \"price\": {\"$lt\": 1500}}):\n",
    "    print(x)\n",
    "\n",
    "print(\"4. Display all the information for the cheapest air ticket\")\n",
    "prices = collection.find_one(sort=[\"price\",1])\n",
    "print(prices)"
   ]
  },
  {
   "cell_type": "code",
   "execution_count": null,
   "id": "95dcc87b",
   "metadata": {},
   "outputs": [],
   "source": []
  }
 ],
 "metadata": {
  "kernelspec": {
   "display_name": "Python 3 (ipykernel)",
   "language": "python",
   "name": "python3"
  },
  "language_info": {
   "codemirror_mode": {
    "name": "ipython",
    "version": 3
   },
   "file_extension": ".py",
   "mimetype": "text/x-python",
   "name": "python",
   "nbconvert_exporter": "python",
   "pygments_lexer": "ipython3",
   "version": "3.11.5"
  }
 },
 "nbformat": 4,
 "nbformat_minor": 5
}
