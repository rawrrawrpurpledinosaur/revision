{
 "cells": [
  {
   "cell_type": "code",
   "execution_count": 1,
   "id": "7ccf99b0",
   "metadata": {},
   "outputs": [
    {
     "name": "stdout",
     "output_type": "stream",
     "text": [
      "{'_id': ObjectId('663840ff361c286b8006ed2b'), 'Date': 'May 20', 'Time': '1040', 'Tea': 'Golden Oolong Tea', 'Sugar': 100, 'Price': 6.2, 'Upsize': 'True', 'Toppings': ['Bubble', 'Konjac']}\n",
      "{'_id': ObjectId('663840ff361c286b8006ed2c'), 'Date': 'May 20', 'Time': '1430', 'Tea': 'Jasmine Green Tea', 'Sugar': 50, 'Price': 5.5, 'Toppings': 'Bubble', 'Member': 'Alice'}\n",
      "{'_id': ObjectId('663840ff361c286b8006ed2d'), 'Date': 'May 20', 'Time': '2030', 'Tea': 'Assam Black Tea', 'Sugar': 100, 'Price': 7.8, 'Upsize': 'True', 'Toppings': ['Bubble', 'Konja', 'Taro Q', 'Ai Yu']}\n",
      "{'_id': ObjectId('663840ff361c286b8006ed2e'), 'Date': 'May 20', 'Time': '2100', 'Tea': 'Caramel Milk Tea', 'Sugar': 25, 'Price': 5.3, 'Toppings': 'Bubble', 'Member': 'Jason'}\n",
      "{'_id': ObjectId('663840ff361c286b8006ed2f'), 'Date': 'May 21', 'Time': '0920', 'Tea': 'Green Milk Tea', 'Sugar': 75, 'Price': 4.8, 'Upsize': 'True', 'Member': 'Jason'}\n",
      "{'_id': ObjectId('663840ff361c286b8006ed30'), 'Date': 'May 21', 'Time': '1120', 'Tea': 'Mango Milk Tea', 'Sugar': 75, 'Price': 5.8, 'Toppings': 'Bubble', 'Member': 'Alice', 'Ice': 'Less'}\n",
      "{'_id': ObjectId('663840ff361c286b8006ed31'), 'Date': 'May 21', 'Time': '1350', 'Tea': 'Honey Oolong Tea', 'Sugar': 25, 'Price': 5.3, 'Ice': 'Less', 'Upsize': 'True'}\n",
      "{'_id': ObjectId('663840ff361c286b8006ed32'), 'Date': 'May 21', 'Time': '1403', 'Tea': 'Lemon Tea', 'Sugar': 120, 'Price': 7.5, 'Upsize': 'True', 'Toppings': ['Ai Yu', 'Coffee Jelly']}\n",
      "{'_id': ObjectId('663840ff361c286b8006ed33'), 'Date': 'May 21', 'Time': '1510', 'Tea': 'Honey Green Tea', 'Sugar': 50, 'Price': 6.5, 'Toppings': ['Bubble', 'Ai Yu'], 'Member': 'Alice'}\n",
      "{'_id': ObjectId('663840ff361c286b8006ed34'), 'Date': 'May 21', 'Time': '1820', 'Tea': 'Yakult Green Tea', 'Sugar': 25, 'Price': 4.5, 'Ice': 'No', 'Toppings': ['Bubble', 'Konjac']}\n",
      "{'_id': ObjectId('663840ff361c286b8006ed35'), 'Date': 'May 22', 'Time': '1330', 'Tea': 'Hazelnut Milk Tea', 'Sugar': 75, 'Price': 6.3, 'Upsize': 'True', 'Toppings': ['Coffee Jelly', 'Taro Q'], 'Member': 'Jason'}\n",
      "{'_id': ObjectId('663840ff361c286b8006ed36'), 'Date': 'May 22', 'Time': '1420', 'Tea': 'Peach Green Tea', 'Sugar': 100, 'Price': 5.8, 'Upsize': 'True', 'Toppings': 'Bubble', 'Member': 'Alice'}\n",
      "{'_id': ObjectId('663840ff361c286b8006ed37'), 'Date': 'May 22', 'Time': '1502', 'Tea': 'Lychee Milk Tea', 'Sugar': 0, 'Price': 5.1, 'Ice': 'Less', 'Upsize': 'True'}\n",
      "{'_id': ObjectId('6638c4aceddbcbdca5d318a5'), 'Date': 'May 20', 'Time': '1040', 'Tea': 'Golden Oolong Tea', 'Sugar': 100, 'Price': 6.2, 'Upsize': 'True', 'Toppings': ['Bubble', 'Konjac']}\n",
      "{'_id': ObjectId('6638c4aceddbcbdca5d318a6'), 'Date': 'May 20', 'Time': '1430', 'Tea': 'Jasmine Green Tea', 'Sugar': 50, 'Price': 5.5, 'Toppings': 'Bubble', 'Member': 'Alice'}\n",
      "{'_id': ObjectId('6638c4aceddbcbdca5d318a7'), 'Date': 'May 20', 'Time': '2030', 'Tea': 'Assam Black Tea', 'Sugar': 100, 'Price': 7.8, 'Upsize': 'True', 'Toppings': ['Bubble', 'Konja', 'Taro Q', 'Ai Yu']}\n",
      "{'_id': ObjectId('6638c4aceddbcbdca5d318a8'), 'Date': 'May 20', 'Time': '2100', 'Tea': 'Caramel Milk Tea', 'Sugar': 25, 'Price': 5.3, 'Toppings': 'Bubble', 'Member': 'Jason'}\n",
      "{'_id': ObjectId('6638c4aceddbcbdca5d318a9'), 'Date': 'May 21', 'Time': '0920', 'Tea': 'Green Milk Tea', 'Sugar': 75, 'Price': 4.8, 'Upsize': 'True', 'Member': 'Jason'}\n",
      "{'_id': ObjectId('6638c4aceddbcbdca5d318aa'), 'Date': 'May 21', 'Time': '1120', 'Tea': 'Mango Milk Tea', 'Sugar': 75, 'Price': 5.8, 'Toppings': 'Bubble', 'Member': 'Alice', 'Ice': 'Less'}\n",
      "{'_id': ObjectId('6638c4aceddbcbdca5d318ab'), 'Date': 'May 21', 'Time': '1350', 'Tea': 'Honey Oolong Tea', 'Sugar': 25, 'Price': 5.3, 'Ice': 'Less', 'Upsize': 'True'}\n",
      "{'_id': ObjectId('6638c4aceddbcbdca5d318ac'), 'Date': 'May 21', 'Time': '1403', 'Tea': 'Lemon Tea', 'Sugar': 120, 'Price': 7.5, 'Upsize': 'True', 'Toppings': ['Ai Yu', 'Coffee Jelly']}\n",
      "{'_id': ObjectId('6638c4aceddbcbdca5d318ad'), 'Date': 'May 21', 'Time': '1510', 'Tea': 'Honey Green Tea', 'Sugar': 50, 'Price': 6.5, 'Toppings': ['Bubble', 'Ai Yu'], 'Member': 'Alice'}\n",
      "{'_id': ObjectId('6638c4aceddbcbdca5d318ae'), 'Date': 'May 21', 'Time': '1820', 'Tea': 'Yakult Green Tea', 'Sugar': 25, 'Price': 4.5, 'Ice': 'No', 'Toppings': ['Bubble', 'Konjac']}\n",
      "{'_id': ObjectId('6638c4aceddbcbdca5d318af'), 'Date': 'May 22', 'Time': '1330', 'Tea': 'Hazelnut Milk Tea', 'Sugar': 75, 'Price': 6.3, 'Upsize': 'True', 'Toppings': ['Coffee Jelly', 'Taro Q'], 'Member': 'Jason'}\n",
      "{'_id': ObjectId('6638c4aceddbcbdca5d318b0'), 'Date': 'May 22', 'Time': '1420', 'Tea': 'Peach Green Tea', 'Sugar': 100, 'Price': 5.8, 'Upsize': 'True', 'Toppings': 'Bubble', 'Member': 'Alice'}\n",
      "{'_id': ObjectId('6638c4aceddbcbdca5d318b1'), 'Date': 'May 22', 'Time': '1502', 'Tea': 'Lychee Milk Tea', 'Sugar': 0, 'Price': 5.1, 'Ice': 'Less', 'Upsize': 'True'}\n"
     ]
    }
   ],
   "source": [
    "import pymongo\n",
    "import json\n",
    "\n",
    "# connect to db\n",
    "client = pymongo.MongoClient(\"localhost\", 27017)\n",
    "\n",
    "# create a db \n",
    "db = client[\"Store\"]\n",
    "\n",
    "# create a collection (table)\n",
    "collection = db[\"Order\"]\n",
    "\n",
    "with open(\"DRINK.json\", \"r\") as f: \n",
    "    data = json.load(f)\n",
    "    collection.insert_many(data)\n",
    "\n",
    "for doc in collection.find():\n",
    "    print(doc)"
   ]
  },
  {
   "cell_type": "code",
   "execution_count": 15,
   "id": "4131c8bb",
   "metadata": {},
   "outputs": [
    {
     "name": "stdout",
     "output_type": "stream",
     "text": [
      "Orders without upsizing: \n",
      "{'_id': ObjectId('663840ff361c286b8006ed2c'), 'Date': 'May 20', 'Time': '1430', 'Tea': 'Jasmine Green Tea', 'Sugar': 50, 'Price': 5.5, 'Toppings': 'Bubble', 'Member': 'Alice'}\n",
      "{'_id': ObjectId('663840ff361c286b8006ed2e'), 'Date': 'May 20', 'Time': '2100', 'Tea': 'Caramel Milk Tea', 'Sugar': 25, 'Price': 5.3, 'Toppings': 'Bubble', 'Member': 'Jason'}\n",
      "{'_id': ObjectId('663840ff361c286b8006ed30'), 'Date': 'May 21', 'Time': '1120', 'Tea': 'Mango Milk Tea', 'Sugar': 75, 'Price': 5.8, 'Toppings': 'Bubble', 'Member': 'Alice', 'Ice': 'Less'}\n",
      "{'_id': ObjectId('663840ff361c286b8006ed33'), 'Date': 'May 21', 'Time': '1510', 'Tea': 'Honey Green Tea', 'Sugar': 50, 'Price': 6.5, 'Toppings': ['Bubble', 'Ai Yu'], 'Member': 'Alice'}\n",
      "{'_id': ObjectId('663840ff361c286b8006ed34'), 'Date': 'May 21', 'Time': '1820', 'Tea': 'Yakult Green Tea', 'Sugar': 25, 'Price': 4.5, 'Ice': 'No', 'Toppings': ['Bubble', 'Konjac']}\n",
      "{'_id': ObjectId('6638c4aceddbcbdca5d318a6'), 'Date': 'May 20', 'Time': '1430', 'Tea': 'Jasmine Green Tea', 'Sugar': 50, 'Price': 5.5, 'Toppings': 'Bubble', 'Member': 'Alice'}\n",
      "{'_id': ObjectId('6638c4aceddbcbdca5d318a8'), 'Date': 'May 20', 'Time': '2100', 'Tea': 'Caramel Milk Tea', 'Sugar': 25, 'Price': 5.3, 'Toppings': 'Bubble', 'Member': 'Jason'}\n",
      "{'_id': ObjectId('6638c4aceddbcbdca5d318aa'), 'Date': 'May 21', 'Time': '1120', 'Tea': 'Mango Milk Tea', 'Sugar': 75, 'Price': 5.8, 'Toppings': 'Bubble', 'Member': 'Alice', 'Ice': 'Less'}\n",
      "{'_id': ObjectId('6638c4aceddbcbdca5d318ad'), 'Date': 'May 21', 'Time': '1510', 'Tea': 'Honey Green Tea', 'Sugar': 50, 'Price': 6.5, 'Toppings': ['Bubble', 'Ai Yu'], 'Member': 'Alice'}\n",
      "{'_id': ObjectId('6638c4aceddbcbdca5d318ae'), 'Date': 'May 21', 'Time': '1820', 'Tea': 'Yakult Green Tea', 'Sugar': 25, 'Price': 4.5, 'Ice': 'No', 'Toppings': ['Bubble', 'Konjac']}\n",
      "\n",
      "Orders without Bubble in Toppings: \n",
      "{'_id': ObjectId('663840ff361c286b8006ed2f'), 'Date': 'May 21', 'Time': '0920', 'Tea': 'Green Milk Tea', 'Sugar': 75, 'Price': 4.8, 'Upsize': 'True', 'Member': 'Jason'}\n",
      "{'_id': ObjectId('663840ff361c286b8006ed31'), 'Date': 'May 21', 'Time': '1350', 'Tea': 'Honey Oolong Tea', 'Sugar': 25, 'Price': 5.3, 'Ice': 'Less', 'Upsize': 'True'}\n",
      "{'_id': ObjectId('663840ff361c286b8006ed37'), 'Date': 'May 22', 'Time': '1502', 'Tea': 'Lychee Milk Tea', 'Sugar': 0, 'Price': 5.1, 'Ice': 'Less', 'Upsize': 'True'}\n",
      "{'_id': ObjectId('6638c4aceddbcbdca5d318a9'), 'Date': 'May 21', 'Time': '0920', 'Tea': 'Green Milk Tea', 'Sugar': 75, 'Price': 4.8, 'Upsize': 'True', 'Member': 'Jason'}\n",
      "{'_id': ObjectId('6638c4aceddbcbdca5d318ab'), 'Date': 'May 21', 'Time': '1350', 'Tea': 'Honey Oolong Tea', 'Sugar': 25, 'Price': 5.3, 'Ice': 'Less', 'Upsize': 'True'}\n",
      "{'_id': ObjectId('6638c4aceddbcbdca5d318b1'), 'Date': 'May 22', 'Time': '1502', 'Tea': 'Lychee Milk Tea', 'Sugar': 0, 'Price': 5.1, 'Ice': 'Less', 'Upsize': 'True'}\n",
      "\n",
      "Orders with healthier choices: \n",
      "{'_id': ObjectId('663840ff361c286b8006ed2c'), 'Date': 'May 20', 'Time': '1430', 'Tea': 'Jasmine Green Tea', 'Sugar': 50, 'Price': 5.5, 'Toppings': 'Bubble', 'Member': 'Alice'}\n",
      "{'_id': ObjectId('663840ff361c286b8006ed2e'), 'Date': 'May 20', 'Time': '2100', 'Tea': 'Caramel Milk Tea', 'Sugar': 25, 'Price': 5.3, 'Toppings': 'Bubble', 'Member': 'Jason'}\n",
      "{'_id': ObjectId('663840ff361c286b8006ed31'), 'Date': 'May 21', 'Time': '1350', 'Tea': 'Honey Oolong Tea', 'Sugar': 25, 'Price': 5.3, 'Ice': 'Less', 'Upsize': 'True'}\n",
      "{'_id': ObjectId('663840ff361c286b8006ed33'), 'Date': 'May 21', 'Time': '1510', 'Tea': 'Honey Green Tea', 'Sugar': 50, 'Price': 6.5, 'Toppings': ['Bubble', 'Ai Yu'], 'Member': 'Alice'}\n",
      "{'_id': ObjectId('663840ff361c286b8006ed34'), 'Date': 'May 21', 'Time': '1820', 'Tea': 'Yakult Green Tea', 'Sugar': 25, 'Price': 4.5, 'Ice': 'No', 'Toppings': ['Bubble', 'Konjac']}\n",
      "{'_id': ObjectId('663840ff361c286b8006ed37'), 'Date': 'May 22', 'Time': '1502', 'Tea': 'Lychee Milk Tea', 'Sugar': 0, 'Price': 5.1, 'Ice': 'Less', 'Upsize': 'True'}\n",
      "{'_id': ObjectId('6638c4aceddbcbdca5d318a6'), 'Date': 'May 20', 'Time': '1430', 'Tea': 'Jasmine Green Tea', 'Sugar': 50, 'Price': 5.5, 'Toppings': 'Bubble', 'Member': 'Alice'}\n",
      "{'_id': ObjectId('6638c4aceddbcbdca5d318a8'), 'Date': 'May 20', 'Time': '2100', 'Tea': 'Caramel Milk Tea', 'Sugar': 25, 'Price': 5.3, 'Toppings': 'Bubble', 'Member': 'Jason'}\n",
      "{'_id': ObjectId('6638c4aceddbcbdca5d318ab'), 'Date': 'May 21', 'Time': '1350', 'Tea': 'Honey Oolong Tea', 'Sugar': 25, 'Price': 5.3, 'Ice': 'Less', 'Upsize': 'True'}\n",
      "{'_id': ObjectId('6638c4aceddbcbdca5d318ad'), 'Date': 'May 21', 'Time': '1510', 'Tea': 'Honey Green Tea', 'Sugar': 50, 'Price': 6.5, 'Toppings': ['Bubble', 'Ai Yu'], 'Member': 'Alice'}\n",
      "{'_id': ObjectId('6638c4aceddbcbdca5d318ae'), 'Date': 'May 21', 'Time': '1820', 'Tea': 'Yakult Green Tea', 'Sugar': 25, 'Price': 4.5, 'Ice': 'No', 'Toppings': ['Bubble', 'Konjac']}\n",
      "{'_id': ObjectId('6638c4aceddbcbdca5d318b1'), 'Date': 'May 22', 'Time': '1502', 'Tea': 'Lychee Milk Tea', 'Sugar': 0, 'Price': 5.1, 'Ice': 'Less', 'Upsize': 'True'}\n",
      "\n",
      "Jason has ordered 6 times \n",
      "\n",
      "Average price is $5.88\n"
     ]
    }
   ],
   "source": [
    "# Task 2.2\n",
    "print(\"Orders without upsizing: \") \n",
    "for bbt in collection.find({\"Upsize\": {'$exists': False}}):\n",
    "    print(bbt)\n",
    "    \n",
    "print(\"\")\n",
    "print(\"Orders without Bubble in Toppings: \") \n",
    "for bbt in collection.find({\"Toppings\": {'$not' : {'$exists': \"Bubble\"}}}):\n",
    "    print(bbt)\n",
    "    \n",
    "print(\"\")\n",
    "print(\"Orders with healthier choices: \") \n",
    "for bbt in collection.find({\"Sugar\" : {'$lt' : 51}}):\n",
    "    print(bbt)\n",
    "    \n",
    "counter = 0 \n",
    "for bbt in collection.find({\"Member\" : \"Jason\"}):\n",
    "    counter += 1 \n",
    "print(\"\")\n",
    "print(f\"Jason has ordered {counter} times \")\n",
    "\n",
    "price, total = 0, 0\n",
    "print(\"\")\n",
    "for bbt in collection.find():\n",
    "    price += bbt[\"Price\"]\n",
    "    total += 1\n",
    "print(f\"Average price is ${round(price/total, 2)}\")"
   ]
  },
  {
   "cell_type": "code",
   "execution_count": 28,
   "id": "591fae39",
   "metadata": {},
   "outputs": [
    {
     "name": "stdout",
     "output_type": "stream",
     "text": [
      "Remaining orders after making changes to 'Order' collection: \n",
      "{'_id': ObjectId('663840ff361c286b8006ed2b'), 'Date': 'May 20', 'Time': '1040', 'Tea': 'Golden Oolong Tea', 'Sugar': 100, 'Price': 6.2, 'Toppings': ['Bubble', 'Konjac']}\n",
      "{'_id': ObjectId('663840ff361c286b8006ed2c'), 'Date': 'May 20', 'Time': '1430', 'Tea': 'Jasmine Green Tea', 'Sugar': 50, 'Price': 5.5, 'Toppings': 'Bubble', 'Member': 'Alice'}\n",
      "{'_id': ObjectId('663840ff361c286b8006ed2d'), 'Date': 'May 20', 'Time': '2030', 'Tea': 'Assam Black Tea', 'Sugar': 100, 'Price': 7.8, 'Toppings': ['Bubble', 'Konja', 'Taro Q', 'Ai Yu']}\n",
      "{'_id': ObjectId('663840ff361c286b8006ed30'), 'Date': 'May 21', 'Time': '1120', 'Tea': 'Mango Milk Tea', 'Sugar': 75, 'Price': 5.8, 'Toppings': 'Bubble', 'Member': 'Alice'}\n",
      "{'_id': ObjectId('663840ff361c286b8006ed31'), 'Date': 'May 21', 'Time': '1350', 'Tea': 'Honey Oolong Tea', 'Sugar': 25, 'Price': 5.3, 'Ice': 'Less'}\n",
      "{'_id': ObjectId('663840ff361c286b8006ed32'), 'Date': 'May 21', 'Time': '1403', 'Tea': 'Lemon Tea', 'Sugar': 120, 'Price': 7.5, 'Toppings': ['Ai Yu', 'Coffee Jelly']}\n",
      "{'_id': ObjectId('663840ff361c286b8006ed33'), 'Date': 'May 21', 'Time': '1510', 'Tea': 'Honey Green Tea', 'Sugar': 50, 'Price': 6.5, 'Toppings': ['Bubble', 'Ai Yu'], 'Member': 'Alice'}\n",
      "{'_id': ObjectId('663840ff361c286b8006ed34'), 'Date': 'May 21', 'Time': '1820', 'Tea': 'Yakult Green Tea', 'Sugar': 25, 'Price': 4.5, 'Ice': 'No', 'Toppings': ['Bubble', 'Konjac']}\n",
      "{'_id': ObjectId('663840ff361c286b8006ed36'), 'Date': 'May 22', 'Time': '1420', 'Tea': 'Peach Green Tea', 'Sugar': 100, 'Price': 5.8, 'Toppings': 'Bubble', 'Member': 'Alice'}\n",
      "{'_id': ObjectId('663840ff361c286b8006ed37'), 'Date': 'May 22', 'Time': '1502', 'Tea': 'Lychee Milk Tea', 'Sugar': 0, 'Price': 5.1, 'Ice': 'Less'}\n",
      "{'_id': ObjectId('6638c4aceddbcbdca5d318a5'), 'Date': 'May 20', 'Time': '1040', 'Tea': 'Golden Oolong Tea', 'Sugar': 100, 'Price': 6.2, 'Toppings': ['Bubble', 'Konjac']}\n",
      "{'_id': ObjectId('6638c4aceddbcbdca5d318a6'), 'Date': 'May 20', 'Time': '1430', 'Tea': 'Jasmine Green Tea', 'Sugar': 50, 'Price': 5.5, 'Toppings': 'Bubble', 'Member': 'Alice'}\n",
      "{'_id': ObjectId('6638c4aceddbcbdca5d318a7'), 'Date': 'May 20', 'Time': '2030', 'Tea': 'Assam Black Tea', 'Sugar': 100, 'Price': 7.8, 'Toppings': ['Bubble', 'Konja', 'Taro Q', 'Ai Yu']}\n",
      "{'_id': ObjectId('6638c4aceddbcbdca5d318aa'), 'Date': 'May 21', 'Time': '1120', 'Tea': 'Mango Milk Tea', 'Sugar': 75, 'Price': 5.8, 'Toppings': 'Bubble', 'Member': 'Alice'}\n",
      "{'_id': ObjectId('6638c4aceddbcbdca5d318ab'), 'Date': 'May 21', 'Time': '1350', 'Tea': 'Honey Oolong Tea', 'Sugar': 25, 'Price': 5.3, 'Ice': 'Less'}\n",
      "{'_id': ObjectId('6638c4aceddbcbdca5d318ac'), 'Date': 'May 21', 'Time': '1403', 'Tea': 'Lemon Tea', 'Sugar': 120, 'Price': 7.5, 'Toppings': ['Ai Yu', 'Coffee Jelly']}\n",
      "{'_id': ObjectId('6638c4aceddbcbdca5d318ad'), 'Date': 'May 21', 'Time': '1510', 'Tea': 'Honey Green Tea', 'Sugar': 50, 'Price': 6.5, 'Toppings': ['Bubble', 'Ai Yu'], 'Member': 'Alice'}\n",
      "{'_id': ObjectId('6638c4aceddbcbdca5d318ae'), 'Date': 'May 21', 'Time': '1820', 'Tea': 'Yakult Green Tea', 'Sugar': 25, 'Price': 4.5, 'Ice': 'No', 'Toppings': ['Bubble', 'Konjac']}\n",
      "{'_id': ObjectId('6638c4aceddbcbdca5d318b0'), 'Date': 'May 22', 'Time': '1420', 'Tea': 'Peach Green Tea', 'Sugar': 100, 'Price': 5.8, 'Toppings': 'Bubble', 'Member': 'Alice'}\n",
      "{'_id': ObjectId('6638c4aceddbcbdca5d318b1'), 'Date': 'May 22', 'Time': '1502', 'Tea': 'Lychee Milk Tea', 'Sugar': 0, 'Price': 5.1, 'Ice': 'Less'}\n"
     ]
    }
   ],
   "source": [
    "collection.update_many({\"Date\": \"May 21\", \"Member\": \"Alice\"}, {\"$unset\": {\"Ice\": \"$exists\"}})\n",
    "collection.update_many({}, {'$unset': {'Upsize': ''}})\n",
    "collection.delete_many({\"Member\": \"Jason\"})\n",
    "\n",
    "print(\"Remaining orders after making changes to 'Order' collection: \")\n",
    "for doc in collection.find():\n",
    "    print(doc)"
   ]
  },
  {
   "cell_type": "code",
   "execution_count": null,
   "id": "e2bcee23",
   "metadata": {},
   "outputs": [],
   "source": []
  }
 ],
 "metadata": {
  "kernelspec": {
   "display_name": "Python 3 (ipykernel)",
   "language": "python",
   "name": "python3"
  },
  "language_info": {
   "codemirror_mode": {
    "name": "ipython",
    "version": 3
   },
   "file_extension": ".py",
   "mimetype": "text/x-python",
   "name": "python",
   "nbconvert_exporter": "python",
   "pygments_lexer": "ipython3",
   "version": "3.11.5"
  }
 },
 "nbformat": 4,
 "nbformat_minor": 5
}
