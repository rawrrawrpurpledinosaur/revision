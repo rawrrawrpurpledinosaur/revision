{
 "cells": [
  {
   "cell_type": "markdown",
   "id": "23102ee7",
   "metadata": {},
   "source": [
    "### Enumerate \n",
    "\n",
    "Use this instead of range(len(list))"
   ]
  },
  {
   "cell_type": "code",
   "execution_count": 12,
   "id": "03029326",
   "metadata": {},
   "outputs": [
    {
     "name": "stdout",
     "output_type": "stream",
     "text": [
      "(0, 'apple')\n",
      "(1, 'banana')\n",
      "(2, 'carrot')\n",
      "(3, 'peepee')\n",
      "apple\n",
      "banana\n",
      "carrot\n",
      "peepee\n",
      "apple\n",
      "banana\n",
      "carrot\n",
      "peepee\n"
     ]
    }
   ],
   "source": [
    "my_list = [\"apple\", \"banana\", \"carrot\", \"peepee\"]\n",
    "\n",
    "# instead of range(len(my_list)) \n",
    "for i in enumerate(my_list): \n",
    "    print(i)\n",
    "    \n",
    "# dont want the index? \n",
    "for index, item in enumerate(my_list): \n",
    "    print(item)\n",
    "    \n",
    "# want to iterate over many items? just assign it to a variable\n",
    "enum = enumerate(my_list)\n",
    "for index, item in enum:\n",
    "    print(item)"
   ]
  },
  {
   "cell_type": "code",
   "execution_count": null,
   "id": "dbdf78b0",
   "metadata": {},
   "outputs": [],
   "source": []
  }
 ],
 "metadata": {
  "kernelspec": {
   "display_name": "Python 3 (ipykernel)",
   "language": "python",
   "name": "python3"
  },
  "language_info": {
   "codemirror_mode": {
    "name": "ipython",
    "version": 3
   },
   "file_extension": ".py",
   "mimetype": "text/x-python",
   "name": "python",
   "nbconvert_exporter": "python",
   "pygments_lexer": "ipython3",
   "version": "3.11.5"
  }
 },
 "nbformat": 4,
 "nbformat_minor": 5
}
